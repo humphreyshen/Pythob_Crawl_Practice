{
 "cells": [
  {
   "cell_type": "code",
   "execution_count": 1,
   "metadata": {},
   "outputs": [],
   "source": [
    "import pandas as pd\n",
    "import bs4\n",
    "import requests"
   ]
  },
  {
   "cell_type": "code",
   "execution_count": 2,
   "metadata": {},
   "outputs": [
    {
     "name": "stdout",
     "output_type": "stream",
     "text": [
      "<Response [200]>\n"
     ]
    }
   ],
   "source": [
    "url=\"https://www.google.com/search?q=%E5%BB%96%E6%80%9D%E6%83%9F&rlz=1C5CHFA_enTW905TW906&oq=%E5%BB%96%E6%80%9D%E6%83%9F&aqs=chrome..69i57j46i512j0i131i433i512j0i512l6j0i131i433i512.592j0j4&sourceid=chrome&ie=UTF-8\"\n",
    "\n",
    "headers={\n",
    "    'User-Agent':'Mozilla/5.0 (Macintosh; Intel Mac OS X 10_15_7) AppleWebKit/537.36 (KHTML, like Gecko) Chrome/98.0.4758.109 Safari/537.36'\n",
    "}\n",
    "\n",
    "response=requests.get(url=url,headers=headers)\n",
    "\n",
    "print(response)"
   ]
  },
  {
   "cell_type": "code",
   "execution_count": 5,
   "metadata": {},
   "outputs": [
    {
     "name": "stdout",
     "output_type": "stream",
     "text": [
      "['𝚃𝚛𝚒𝚗𝚒𝚝𝚢 bb (@trinityliao) • Instagram photos and videos', '孫芸芸女兒「衣服側邊大開洞」！ 雪白畫面超香辣…網：好害羞', '「孫芸芸2.0」廖思惟的小香包顏色太迷人美景佐美腿讓粉絲大 ...', '好比例完全複製貼上！孫芸芸女兒「廖思惟」超百變率性又甜美', '孫芸芸21歲愛女解放「纖腰長腿」！自製綠拿鐵、柔順秀髮秘訣', '孫芸芸女兒穿太短翹臀美腿全看光', '孫芸芸女兒就是不一樣！廖思惟T恤側開洞辣暈網友', '孫芸芸女兒「廖思惟Trinity 」3 招簡約時尚穿搭術曝光！品味 ...']\n"
     ]
    }
   ],
   "source": [
    "root=bs4.BeautifulSoup(response.text,'html.parser')\n",
    "\n",
    "tiltes=root.find_all(\"h3\",class_='LC20lb MBeuO DKV0Md')\n",
    "\n",
    "tilte_list=[]\n",
    "\n",
    "for tilte in tiltes:\n",
    "    tilte_list.append(tilte.text)\n",
    "\n",
    "print(tilte_list)"
   ]
  },
  {
   "cell_type": "code",
   "execution_count": 6,
   "metadata": {},
   "outputs": [],
   "source": [
    "column_list=['title']"
   ]
  },
  {
   "cell_type": "code",
   "execution_count": 7,
   "metadata": {},
   "outputs": [
    {
     "data": {
      "text/html": [
       "<div>\n",
       "<style scoped>\n",
       "    .dataframe tbody tr th:only-of-type {\n",
       "        vertical-align: middle;\n",
       "    }\n",
       "\n",
       "    .dataframe tbody tr th {\n",
       "        vertical-align: top;\n",
       "    }\n",
       "\n",
       "    .dataframe thead th {\n",
       "        text-align: right;\n",
       "    }\n",
       "</style>\n",
       "<table border=\"1\" class=\"dataframe\">\n",
       "  <thead>\n",
       "    <tr style=\"text-align: right;\">\n",
       "      <th></th>\n",
       "      <th>title</th>\n",
       "    </tr>\n",
       "  </thead>\n",
       "  <tbody>\n",
       "    <tr>\n",
       "      <th>0</th>\n",
       "      <td>𝚃𝚛𝚒𝚗𝚒𝚝𝚢 bb (@trinityliao) • Instagram photos a...</td>\n",
       "    </tr>\n",
       "    <tr>\n",
       "      <th>1</th>\n",
       "      <td>孫芸芸女兒「衣服側邊大開洞」！ 雪白畫面超香辣…網：好害羞</td>\n",
       "    </tr>\n",
       "    <tr>\n",
       "      <th>2</th>\n",
       "      <td>「孫芸芸2.0」廖思惟的小香包顏色太迷人美景佐美腿讓粉絲大 ...</td>\n",
       "    </tr>\n",
       "    <tr>\n",
       "      <th>3</th>\n",
       "      <td>好比例完全複製貼上！孫芸芸女兒「廖思惟」超百變率性又甜美</td>\n",
       "    </tr>\n",
       "    <tr>\n",
       "      <th>4</th>\n",
       "      <td>孫芸芸21歲愛女解放「纖腰長腿」！自製綠拿鐵、柔順秀髮秘訣</td>\n",
       "    </tr>\n",
       "    <tr>\n",
       "      <th>5</th>\n",
       "      <td>孫芸芸女兒穿太短翹臀美腿全看光</td>\n",
       "    </tr>\n",
       "    <tr>\n",
       "      <th>6</th>\n",
       "      <td>孫芸芸女兒就是不一樣！廖思惟T恤側開洞辣暈網友</td>\n",
       "    </tr>\n",
       "    <tr>\n",
       "      <th>7</th>\n",
       "      <td>孫芸芸女兒「廖思惟Trinity 」3 招簡約時尚穿搭術曝光！品味 ...</td>\n",
       "    </tr>\n",
       "  </tbody>\n",
       "</table>\n",
       "</div>"
      ],
      "text/plain": [
       "                                               title\n",
       "0  𝚃𝚛𝚒𝚗𝚒𝚝𝚢 bb (@trinityliao) • Instagram photos a...\n",
       "1                      孫芸芸女兒「衣服側邊大開洞」！ 雪白畫面超香辣…網：好害羞\n",
       "2                  「孫芸芸2.0」廖思惟的小香包顏色太迷人美景佐美腿讓粉絲大 ...\n",
       "3                       好比例完全複製貼上！孫芸芸女兒「廖思惟」超百變率性又甜美\n",
       "4                      孫芸芸21歲愛女解放「纖腰長腿」！自製綠拿鐵、柔順秀髮秘訣\n",
       "5                                    孫芸芸女兒穿太短翹臀美腿全看光\n",
       "6                            孫芸芸女兒就是不一樣！廖思惟T恤側開洞辣暈網友\n",
       "7              孫芸芸女兒「廖思惟Trinity 」3 招簡約時尚穿搭術曝光！品味 ..."
      ]
     },
     "execution_count": 7,
     "metadata": {},
     "output_type": "execute_result"
    }
   ],
   "source": [
    "Final=pd.DataFrame(data=tilte_list, columns=column_list)\n",
    "\n",
    "Final"
   ]
  }
 ],
 "metadata": {
  "interpreter": {
   "hash": "44f92243edf739787e90416c384459d23a84658c5f7f13e77bcf9c56fe77a16d"
  },
  "kernelspec": {
   "display_name": "Python 3.8.5 ('base')",
   "language": "python",
   "name": "python3"
  },
  "language_info": {
   "codemirror_mode": {
    "name": "ipython",
    "version": 3
   },
   "file_extension": ".py",
   "mimetype": "text/x-python",
   "name": "python",
   "nbconvert_exporter": "python",
   "pygments_lexer": "ipython3",
   "version": "3.8.5"
  },
  "orig_nbformat": 4
 },
 "nbformat": 4,
 "nbformat_minor": 2
}
