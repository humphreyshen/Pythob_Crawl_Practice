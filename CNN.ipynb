{
 "cells": [
  {
   "cell_type": "code",
   "execution_count": 12,
   "metadata": {},
   "outputs": [],
   "source": [
    "import requests\n",
    "import pandas \n",
    "import bs4\n",
    "import string"
   ]
  },
  {
   "cell_type": "code",
   "execution_count": 14,
   "metadata": {},
   "outputs": [
    {
     "name": "stdout",
     "output_type": "stream",
     "text": [
      "<Response [200]>\n"
     ]
    }
   ],
   "source": [
    "url=\"https://edition.cnn.com/data/ocs/container/coverageContainer_5A72733B-47FB-A804-B1BD-9C8496682526:list-small-horizontal/views/containers/common/container-manager.html\"\n",
    "\n",
    "headers={\n",
    "    'User-Agent':'Mozilla/5.0 (Macintosh; Intel Mac OS X 10_15_7) AppleWebKit/537.36 (KHTML, like Gecko) Chrome/98.0.4758.109 Safari/537.36'\n",
    "}\n",
    "\n",
    "response=requests.get(url=url,headers=headers)\n",
    "\n",
    "print(response)"
   ]
  },
  {
   "cell_type": "code",
   "execution_count": 19,
   "metadata": {},
   "outputs": [
    {
     "name": "stdout",
     "output_type": "stream",
     "text": [
      "Hits and misses from Joe Biden's State of the Union speech\n",
      "Chris Christie is bidding to be the anti-Trump in 2024\n",
      "Why Mitch McConnell is openly feuding with another Republican senator\n",
      "A newly unmasked US -- just in time for Biden's big speech\n",
      "What is Tulsi Gabbard actually doing on Russia?\n",
      "Is Kevin McCarthy actually going to *do* something about Marjorie Taylor Greene?\n",
      "Trump can't stop praising Putin\n"
     ]
    }
   ],
   "source": [
    "root=bs4.BeautifulSoup(response.text,'html.parser')\n",
    "\n",
    "titles=root.find_all(\"h3\",class_=\"cd__headline\")\n",
    "\n",
    "for title in titles:\n",
    "    print(title.text)\n",
    "    \n",
    "    "
   ]
  },
  {
   "cell_type": "code",
   "execution_count": 20,
   "metadata": {},
   "outputs": [
    {
     "name": "stdout",
     "output_type": "stream",
     "text": [
      "<Response [200]>\n"
     ]
    }
   ],
   "source": [
    "url2=\"https://edition.cnn.com/data/ocs/container/coverageContainer_8F57C195-FE0E-B881-1AE9-2E82FF5235A8:list-hierarchical-xs/views/containers/common/container-manager.html\"\n",
    "\n",
    "response2=requests.get(url=url2,headers=headers)\n",
    "\n",
    "print(response2)"
   ]
  },
  {
   "cell_type": "code",
   "execution_count": 22,
   "metadata": {},
   "outputs": [
    {
     "name": "stdout",
     "output_type": "stream",
     "text": [
      "6 takeaways from the Texas primaries\n",
      "Ken Paxton and George P. Bush will advance to May runoff in Texas attorney general primary, CNN projects \n",
      "Biden's State of the Union sends potent messages to Zelensky and Putin\n",
      "5 takeaways from President Biden's State of the Union speech \n",
      "Speech watchers have mostly positive reaction of Biden's State of the Union, CNN poll shows\n"
     ]
    }
   ],
   "source": [
    "root=bs4.BeautifulSoup(response2.text,'html.parser')\n",
    "\n",
    "titles2=root.find_all('h3',class_='cd__headline')\n",
    "\n",
    "for title2 in titles2:\n",
    "    print(title2.text)"
   ]
  }
 ],
 "metadata": {
  "interpreter": {
   "hash": "44f92243edf739787e90416c384459d23a84658c5f7f13e77bcf9c56fe77a16d"
  },
  "kernelspec": {
   "display_name": "Python 3.8.5 ('base')",
   "language": "python",
   "name": "python3"
  },
  "language_info": {
   "codemirror_mode": {
    "name": "ipython",
    "version": 3
   },
   "file_extension": ".py",
   "mimetype": "text/x-python",
   "name": "python",
   "nbconvert_exporter": "python",
   "pygments_lexer": "ipython3",
   "version": "3.8.5"
  },
  "orig_nbformat": 4
 },
 "nbformat": 4,
 "nbformat_minor": 2
}
